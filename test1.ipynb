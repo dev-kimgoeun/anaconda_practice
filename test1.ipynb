{
 "cells": [
  {
   "cell_type": "code",
   "execution_count": 1,
   "id": "433acf4c-4abb-42be-a8d3-6d85f79ab351",
   "metadata": {},
   "outputs": [
    {
     "name": "stdout",
     "output_type": "stream",
     "text": [
      "웹 크롤링\n"
     ]
    }
   ],
   "source": [
    "print(\"웹 크롤링\")"
   ]
  },
  {
   "cell_type": "code",
   "execution_count": 2,
   "id": "3f2a68a8-bb00-41e6-976e-0e5942f705b7",
   "metadata": {},
   "outputs": [],
   "source": [
    "number=[20, 30, 50, 70]"
   ]
  },
  {
   "cell_type": "code",
   "execution_count": 3,
   "id": "d3e4b6ae-035b-4a64-9948-307ae3fca0cb",
   "metadata": {},
   "outputs": [
    {
     "data": {
      "text/plain": [
       "[20, 30, 50, 70]"
      ]
     },
     "execution_count": 3,
     "metadata": {},
     "output_type": "execute_result"
    }
   ],
   "source": [
    "number"
   ]
  },
  {
   "cell_type": "code",
   "execution_count": 4,
   "id": "6177999d-dfd5-4028-bf37-dc2d64e3d66b",
   "metadata": {},
   "outputs": [],
   "source": [
    "test = [\"sejong\", \"web\", \"analysis\"]"
   ]
  },
  {
   "cell_type": "code",
   "execution_count": 5,
   "id": "042546be-bfb5-4fca-b928-e4309b237433",
   "metadata": {},
   "outputs": [
    {
     "data": {
      "text/plain": [
       "['sejong', 'web', 'analysis']"
      ]
     },
     "execution_count": 5,
     "metadata": {},
     "output_type": "execute_result"
    }
   ],
   "source": [
    "test"
   ]
  },
  {
   "cell_type": "markdown",
   "id": "0e692f17-a089-463e-910f-d82f23ef6905",
   "metadata": {},
   "source": [
    "# 아나콘다"
   ]
  },
  {
   "cell_type": "code",
   "execution_count": 6,
   "id": "f81ebb96-6e57-41b1-a369-a59f18bdfd19",
   "metadata": {},
   "outputs": [
    {
     "name": "stdout",
     "output_type": "stream",
     "text": [
      "안\n",
      "녕\n",
      "하\n",
      "세\n",
      "요\n"
     ]
    }
   ],
   "source": [
    "for i in \"안녕하세요\" :\n",
    "    print(i)"
   ]
  },
  {
   "cell_type": "code",
   "execution_count": 7,
   "id": "ac05a04a-810e-42cb-a16e-03ff667a1d2b",
   "metadata": {},
   "outputs": [
    {
     "name": "stdout",
     "output_type": "stream",
     "text": [
      "20\n",
      "30\n",
      "50\n",
      "70\n"
     ]
    }
   ],
   "source": [
    "for n in number :\n",
    "    print(n)"
   ]
  },
  {
   "cell_type": "code",
   "execution_count": 8,
   "id": "aeefb9cb-fe8f-44cf-a434-3742f2cf7546",
   "metadata": {},
   "outputs": [
    {
     "name": "stdout",
     "output_type": "stream",
     "text": [
      "pear\n"
     ]
    }
   ],
   "source": [
    "list =[\"apple\", \"mango\",\"pear\"]\n",
    "list2 = [\"tomato\", \"banana\", \"fig\"]\n",
    "print(list[2])"
   ]
  },
  {
   "cell_type": "code",
   "execution_count": 9,
   "id": "9b30d349-75ae-43de-b555-fc01b6a556ec",
   "metadata": {},
   "outputs": [
    {
     "data": {
      "text/plain": [
       "['apple', 'mango', 'pear']"
      ]
     },
     "execution_count": 9,
     "metadata": {},
     "output_type": "execute_result"
    }
   ],
   "source": [
    "list"
   ]
  },
  {
   "cell_type": "code",
   "execution_count": 10,
   "id": "fb3c091d-2b0d-4b39-8e3f-3ef553b9d0b5",
   "metadata": {},
   "outputs": [
    {
     "name": "stdout",
     "output_type": "stream",
     "text": [
      "['apple', 'mango', 'pear', 'tomato', 'banana', 'fig']\n"
     ]
    }
   ],
   "source": [
    "new_list = []\n",
    "list= list + list2\n",
    "print(list)"
   ]
  },
  {
   "cell_type": "code",
   "execution_count": 11,
   "id": "8d4751e4-a7fd-4400-bdfe-5b3df651e1be",
   "metadata": {},
   "outputs": [
    {
     "name": "stdout",
     "output_type": "stream",
     "text": [
      "['tomato']\n"
     ]
    }
   ],
   "source": [
    "for x in list :\n",
    "    if \"t\" in x:\n",
    "        new_list.append(x)\n",
    "print(new_list)"
   ]
  },
  {
   "cell_type": "code",
   "execution_count": 13,
   "id": "c27a8e61-c455-4bb1-aa0b-b7e8ca389989",
   "metadata": {},
   "outputs": [
    {
     "name": "stdout",
     "output_type": "stream",
     "text": [
      "apple\n",
      "mango\n",
      "pear\n",
      "tomato\n",
      "banana\n",
      "fig\n"
     ]
    }
   ],
   "source": [
    "for x in range(len(list)):\n",
    "    print(list[x])"
   ]
  },
  {
   "cell_type": "code",
   "execution_count": null,
   "id": "0746bab9-2435-4ffe-a8e3-ecf7be3d26a3",
   "metadata": {},
   "outputs": [],
   "source": []
  }
 ],
 "metadata": {
  "kernelspec": {
   "display_name": "Python 3 (ipykernel)",
   "language": "python",
   "name": "python3"
  },
  "language_info": {
   "codemirror_mode": {
    "name": "ipython",
    "version": 3
   },
   "file_extension": ".py",
   "mimetype": "text/x-python",
   "name": "python",
   "nbconvert_exporter": "python",
   "pygments_lexer": "ipython3",
   "version": "3.11.7"
  }
 },
 "nbformat": 4,
 "nbformat_minor": 5
}
